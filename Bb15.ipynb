{
 "cells": [
  {
   "cell_type": "code",
   "execution_count": 2,
   "id": "7b389fbf-1fb2-4d77-aa4b-96920cf722fb",
   "metadata": {},
   "outputs": [],
   "source": [
    "# !pip install scipy"
   ]
  },
  {
   "cell_type": "code",
   "execution_count": 12,
   "id": "9b26b53b-6417-48f1-8746-c326e7ae9bea",
   "metadata": {},
   "outputs": [
    {
     "name": "stdout",
     "output_type": "stream",
     "text": [
      "Ket Qua: [ 1.  -0.5]\n"
     ]
    }
   ],
   "source": [
    "from scipy import linalg\n",
    "import numpy as np\n",
    "\n",
    "A = np.array([[2,2],[4,2]])\n",
    "b = np.array([1,3])\n",
    "\n",
    "x = linalg.solve(A,b)\n",
    "print(\"Ket Qua:\", x)"
   ]
  },
  {
   "cell_type": "code",
   "execution_count": 15,
   "id": "7f9a336f-a952-4e8c-9183-4e44192e7de9",
   "metadata": {},
   "outputs": [
    {
     "name": "stdout",
     "output_type": "stream",
     "text": [
      "Tích phân f(x) từ 1 đến 3:  (20.0, 2.220446049250313e-13)\n"
     ]
    }
   ],
   "source": [
    "from scipy import integrate\n",
    "\n",
    "def my_function(x):\n",
    "    return x**3;\n",
    "\n",
    "integral = integrate.quad(my_function, 1,3);\n",
    "print(\"Tích phân f(x) từ 1 đến 3: \", integral)"
   ]
  },
  {
   "cell_type": "code",
   "execution_count": 19,
   "id": "3238fa1b-ab92-47cc-b8fb-f0f501c2f4ac",
   "metadata": {},
   "outputs": [
    {
     "name": "stdout",
     "output_type": "stream",
     "text": [
      "Giá trị riêng:  [4.+0.j 2.+0.j]\n",
      "Vector riêng:  [[1. 0.]\n",
      " [0. 1.]]\n"
     ]
    }
   ],
   "source": [
    "from scipy import linalg\n",
    "import numpy as np\n",
    "\n",
    "A = np.array([[4,0], [0,2]])\n",
    "\n",
    "evals, evecs = linalg.eig(A)\n",
    "\n",
    "print(\"Giá trị riêng: \", evals)\n",
    "print(\"Vector riêng: \", evecs)"
   ]
  },
  {
   "cell_type": "code",
   "execution_count": null,
   "id": "464a3e09-f151-450c-8d5f-61be2d58f4cc",
   "metadata": {},
   "outputs": [],
   "source": []
  }
 ],
 "metadata": {
  "kernelspec": {
   "display_name": "Python 3 (ipykernel)",
   "language": "python",
   "name": "python3"
  },
  "language_info": {
   "codemirror_mode": {
    "name": "ipython",
    "version": 3
   },
   "file_extension": ".py",
   "mimetype": "text/x-python",
   "name": "python",
   "nbconvert_exporter": "python",
   "pygments_lexer": "ipython3",
   "version": "3.12.3"
  }
 },
 "nbformat": 4,
 "nbformat_minor": 5
}
