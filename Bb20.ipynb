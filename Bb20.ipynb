{
 "cells": [
  {
   "cell_type": "code",
   "execution_count": 1,
   "id": "49f2c618-eef8-4eab-be05-288f6bd00d9b",
   "metadata": {},
   "outputs": [],
   "source": [
    "import cv2\n",
    "import numpy as np\n",
    "def display(title, img):\n",
    "    cv2.imshow(title, img)\n",
    "    # Chờ một khoảng thời gian\n",
    "    cv2.waitKey(0)\n",
    "    # Đóng window\n",
    "    cv2.destroyWindow(title)"
   ]
  },
  {
   "cell_type": "code",
   "execution_count": 29,
   "id": "d4df8639-bc11-40d1-bd48-579bb77596c1",
   "metadata": {},
   "outputs": [
    {
     "data": {
      "text/plain": [
       "array([[[0, 0, 0],\n",
       "        [0, 0, 0],\n",
       "        [0, 0, 0],\n",
       "        ...,\n",
       "        [0, 0, 0],\n",
       "        [0, 0, 0],\n",
       "        [0, 0, 0]],\n",
       "\n",
       "       [[0, 0, 0],\n",
       "        [0, 0, 0],\n",
       "        [0, 0, 0],\n",
       "        ...,\n",
       "        [0, 0, 0],\n",
       "        [0, 0, 0],\n",
       "        [0, 0, 0]],\n",
       "\n",
       "       [[0, 0, 0],\n",
       "        [0, 0, 0],\n",
       "        [0, 0, 0],\n",
       "        ...,\n",
       "        [0, 0, 0],\n",
       "        [0, 0, 0],\n",
       "        [0, 0, 0]],\n",
       "\n",
       "       ...,\n",
       "\n",
       "       [[0, 0, 0],\n",
       "        [0, 0, 0],\n",
       "        [0, 0, 0],\n",
       "        ...,\n",
       "        [0, 0, 0],\n",
       "        [0, 0, 0],\n",
       "        [0, 0, 0]],\n",
       "\n",
       "       [[0, 0, 0],\n",
       "        [0, 0, 0],\n",
       "        [0, 0, 0],\n",
       "        ...,\n",
       "        [0, 0, 0],\n",
       "        [0, 0, 0],\n",
       "        [0, 0, 0]],\n",
       "\n",
       "       [[0, 0, 0],\n",
       "        [0, 0, 0],\n",
       "        [0, 0, 0],\n",
       "        ...,\n",
       "        [0, 0, 0],\n",
       "        [0, 0, 0],\n",
       "        [0, 0, 0]]], dtype=uint8)"
      ]
     },
     "execution_count": 29,
     "metadata": {},
     "output_type": "execute_result"
    }
   ],
   "source": [
    "img =  np.zeros((400, 400, 3), dtype=np.uint8)\n",
    "cv2.line(img, (50, 50) , (350, 50), (0,0,255), 2)\n",
    "cv2.line(img, (50, 50) , (350, 50), (0,0,255), 2)\n",
    "cv2.circle(img, (100,100), 50, (0, 255, 0), -1)\n",
    "cv2.rectangle(img, (100,100),(300,300), (255, 0, 0), 2)\n"
   ]
  },
  {
   "cell_type": "code",
   "execution_count": 30,
   "id": "111b07e7-7c65-463d-bac3-b6672ec97797",
   "metadata": {},
   "outputs": [],
   "source": [
    "content = 'Than Trong Phuc'\n",
    "font = cv2.FONT_HERSHEY_SIMPLEX\n",
    "cv2.putText(img, content, (10, 380), font, 0.6, (255, 255, 255), 2)\n",
    "display('Image', img)\n",
    "cv2.waitKey(0)\n",
    "cv2.destroyAllWindows()"
   ]
  },
  {
   "cell_type": "code",
   "execution_count": 34,
   "id": "48aafe2b-0146-4b3b-86fd-999fb00d1c38",
   "metadata": {},
   "outputs": [],
   "source": [
    "import cv2\n",
    "import numpy as np\n",
    "\n",
    "# Kích thước cờ\n",
    "width = 600  # Chiều rộng\n",
    "height = 400  # Chiều cao\n",
    "\n",
    "# Tạo nền đỏ (màu RGB là [0, 0, 255] cho màu đỏ)\n",
    "flag = np.zeros((height, width, 3), dtype=np.uint8)\n",
    "flag[:] = [0, 0, 255]\n",
    "\n",
    "# Tọa độ tâm và bán kính của ngôi sao\n",
    "center_x, center_y = width // 2, height // 2  # Tọa độ tâm\n",
    "star_radius = 100  # Bán kính ngôi sao\n",
    "\n",
    "# Hàm để vẽ ngôi sao vàng\n",
    "def draw_star(img, center, radius, color):\n",
    "    points = []\n",
    "    for i in range(5):\n",
    "        angle_outer = i * 2 * np.pi / 5 - np.pi / 2\n",
    "        angle_inner = (i + 0.5) * 2 * np.pi / 5 - np.pi / 2\n",
    "        outer_x = int(center[0] + radius * np.cos(angle_outer))\n",
    "        outer_y = int(center[1] + radius * np.sin(angle_outer))\n",
    "        inner_x = int(center[0] + radius * 0.5 * np.cos(angle_inner))\n",
    "        inner_y = int(center[1] + radius * 0.5 * np.sin(angle_inner))\n",
    "        points.append([outer_x, outer_y])\n",
    "        points.append([inner_x, inner_y])\n",
    "    \n",
    "    points = np.array(points, np.int32)\n",
    "    cv2.fillPoly(img, [points], color)\n",
    "\n",
    "# Vẽ ngôi sao vàng vào nền cờ đỏ\n",
    "draw_star(flag, (center_x, center_y), star_radius, (0, 255, 255))\n",
    "\n",
    "# Hiển thị hình ảnh cờ\n",
    "cv2.imshow('Flag of Vietnam', flag)\n",
    "cv2.waitKey(0)\n",
    "cv2.destroyAllWindows()\n"
   ]
  },
  {
   "cell_type": "code",
   "execution_count": null,
   "id": "32f3d44e-1fc4-4843-b3ec-3c6687899384",
   "metadata": {},
   "outputs": [],
   "source": []
  }
 ],
 "metadata": {
  "kernelspec": {
   "display_name": "Python 3 (ipykernel)",
   "language": "python",
   "name": "python3"
  },
  "language_info": {
   "codemirror_mode": {
    "name": "ipython",
    "version": 3
   },
   "file_extension": ".py",
   "mimetype": "text/x-python",
   "name": "python",
   "nbconvert_exporter": "python",
   "pygments_lexer": "ipython3",
   "version": "3.12.3"
  }
 },
 "nbformat": 4,
 "nbformat_minor": 5
}
