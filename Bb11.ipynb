{
 "cells": [
  {
   "cell_type": "code",
   "execution_count": 2,
   "id": "2d3e6241-f91b-4e5f-86ee-e8016d901090",
   "metadata": {},
   "outputs": [
    {
     "name": "stdout",
     "output_type": "stream",
     "text": [
      "[1 2 3]\n",
      "2\n"
     ]
    }
   ],
   "source": [
    "import numpy as np\n",
    "\n",
    "a = np.array([1,2,3])\n",
    "\n",
    "print(a)\n",
    "\n",
    "element = a[1]\n",
    "print(element)"
   ]
  },
  {
   "cell_type": "code",
   "execution_count": 3,
   "id": "4d31203d-3804-4d68-9105-393fa207f548",
   "metadata": {},
   "outputs": [
    {
     "name": "stdout",
     "output_type": "stream",
     "text": [
      "Matrix:\n",
      "[[1 2 3]\n",
      " [4 5 6]\n",
      " [7 8 9]]\n",
      "6\n"
     ]
    }
   ],
   "source": [
    "matrix = np.array([[1, 2, 3], [4, 5, 6], [7, 8, 9]])\n",
    "print(\"Matrix:\")\n",
    "print(matrix)\n",
    "\n",
    "element = matrix[1, 2]\n",
    "print(element)"
   ]
  },
  {
   "cell_type": "code",
   "execution_count": 4,
   "id": "1671af49-6a94-43d6-9473-8f57317d248b",
   "metadata": {},
   "outputs": [
    {
     "name": "stdout",
     "output_type": "stream",
     "text": [
      "[0. 0. 0. 0. 0.]\n",
      "[1. 1. 1. 1. 1.]\n",
      "[1. 1. 1. 1. 1.]\n",
      "[ 0  1  2  3  4  5  6  7  8  9 10 11 12 13 14 15 16 17 18 19 20 21 22 23\n",
      " 24 25 26 27 28 29 30 31 32 33 34 35 36 37 38 39 40 41 42 43 44 45 46 47\n",
      " 48 49 50 51 52 53 54 55 56 57 58 59 60 61 62 63 64 65 66 67 68 69 70 71\n",
      " 72 73 74 75 76 77 78 79 80 81 82 83 84 85 86 87 88 89 90 91 92 93 94 95\n",
      " 96 97 98 99]\n",
      "[ 0.   2.5  5.   7.5 10. ]\n"
     ]
    },
    {
     "data": {
      "text/plain": [
       "array([1, 1, 1, 1, 1], dtype=int64)"
      ]
     },
     "execution_count": 4,
     "metadata": {},
     "output_type": "execute_result"
    }
   ],
   "source": [
    "a = np.zeros(5)\n",
    "print(a)\n",
    "\n",
    "a = np.ones(5)\n",
    "print(a)\n",
    "\n",
    "a = np.empty(5)\n",
    "print(a)\n",
    "\n",
    "a = np.arange(100)\n",
    "print(a)\n",
    "\n",
    "a = np.linspace(0, 10, num=5)\n",
    "print(a)\n",
    "\n",
    "a = np.ones(5, dtype=np.int64)\n",
    "a\n"
   ]
  },
  {
   "cell_type": "code",
   "execution_count": 5,
   "id": "1b43c5d5-5d73-4adc-95f6-7a501d1b5b32",
   "metadata": {},
   "outputs": [
    {
     "name": "stdout",
     "output_type": "stream",
     "text": [
      "[3 1 2 4 5]\n",
      "[1 2 3 4 5]\n",
      "[5 4 3 2 1]\n",
      "[  5   4   3   2   1 100]\n",
      "[  5   4   3   1 100]\n"
     ]
    }
   ],
   "source": [
    "arr = np.array([3, 1, 2, 4, 5])\n",
    "print(arr)\n",
    "\n",
    "arr = np.sort(arr)\n",
    "print(arr)\n",
    "\n",
    "arr = np.sort(arr)[::-1]\n",
    "print(arr)\n",
    "\n",
    "arr = np.append(arr, 100)\n",
    "print(arr)\n",
    "\n",
    "arr = np.delete(arr, 3)\n",
    "print(arr)"
   ]
  },
  {
   "cell_type": "code",
   "execution_count": 14,
   "id": "df92f0e7-851d-41d2-ac6d-687b7cae0878",
   "metadata": {},
   "outputs": [
    {
     "name": "stdout",
     "output_type": "stream",
     "text": [
      "[[1 2 3]\n",
      " [4 6 8]\n",
      " [5 7 9]]\n",
      "[[3 1 2]\n",
      " [4 6 5]\n",
      " [9 7 8]]\n"
     ]
    }
   ],
   "source": [
    "arr = np.array([[3, 1, 2],\n",
    "                [4, 6, 8],\n",
    "                [9, 7, 5]])\n",
    "\n",
    "sap_xep_theo_hang = np.sort(arr, axis=1)\n",
    "print(sap_xep_theo_hang)\n",
    "\n",
    "sap_xep_theo_cot = np.sort(arr, axis=0)\n",
    "print(sap_xep_theo_cot)"
   ]
  },
  {
   "cell_type": "code",
   "execution_count": 15,
   "id": "6def3d23-4bdf-47fc-8ca2-c9c9cd6989a1",
   "metadata": {},
   "outputs": [
    {
     "name": "stdout",
     "output_type": "stream",
     "text": [
      "[[-3 -2 -1]\n",
      " [-8 -6 -4]\n",
      " [-9 -7 -5]]\n",
      "[[-9 -7 -8]\n",
      " [-4 -6 -5]\n",
      " [-3 -1 -2]]\n"
     ]
    }
   ],
   "source": [
    "arr = np.array([[3, 1, 2],\n",
    "                [4, 6, 8],\n",
    "                [9, 7, 5]])\n",
    "\n",
    "sap_xep_theo_hang = np.sort(-arr, axis=1)\n",
    "print(sap_xep_theo_hang)\n",
    "\n",
    "sap_xep_theo_cot = np.sort(-arr, axis=0)\n",
    "print(sap_xep_theo_cot)"
   ]
  },
  {
   "cell_type": "code",
   "execution_count": 16,
   "id": "0b4aaaa3-0ec1-4d1d-b53a-f436a1633f46",
   "metadata": {},
   "outputs": [
    {
     "name": "stdout",
     "output_type": "stream",
     "text": [
      "Số chiều: 2\n",
      "Kích thước: 6\n",
      "Hình dạng: (2, 3)\n"
     ]
    }
   ],
   "source": [
    "arr = np.array([[1, 2, 3], [4, 5, 6]])\n",
    "\n",
    "so_chieu = arr.ndim\n",
    "kich_thuoc = arr.size\n",
    "hinh_dang = arr.shape\n",
    "\n",
    "print(\"Số chiều:\", so_chieu)\n",
    "print(\"Kích thước:\", kich_thuoc)\n",
    "print(\"Hình dạng:\", hinh_dang)"
   ]
  },
  {
   "cell_type": "code",
   "execution_count": 17,
   "id": "82626bcb-8c53-4284-9519-2c005bb82b2a",
   "metadata": {},
   "outputs": [
    {
     "name": "stdout",
     "output_type": "stream",
     "text": [
      "[1. 2. 3. 4. 5.]\n"
     ]
    }
   ],
   "source": [
    "arr = np.array([1, 2, 3, 4, 5])\n",
    "arr_float = arr.astype(float)\n",
    "print(arr_float)"
   ]
  },
  {
   "cell_type": "code",
   "execution_count": 18,
   "id": "787ca57c-fa83-4f87-9b84-362068e2c023",
   "metadata": {},
   "outputs": [
    {
     "name": "stdout",
     "output_type": "stream",
     "text": [
      "[[1 2 3]\n",
      " [4 5 6]]\n",
      "[[1 2]\n",
      " [3 4]\n",
      " [5 6]]\n"
     ]
    }
   ],
   "source": [
    "arr = np.array([1, 2, 3, 4, 5, 6])\n",
    "reshaped_arr = arr.reshape(2,3)\n",
    "print(reshaped_arr)\n",
    "reshaped_arr = arr.reshape(3,2)\n",
    "print(reshaped_arr)"
   ]
  },
  {
   "cell_type": "code",
   "execution_count": 19,
   "id": "a16a2774-c716-4c9b-8a44-3e85d16653e7",
   "metadata": {},
   "outputs": [
    {
     "name": "stdout",
     "output_type": "stream",
     "text": [
      "[1 2 3 4 5 6]\n"
     ]
    }
   ],
   "source": [
    "reshaped_arr = reshaped_arr.flatten()\n",
    "print(reshaped_arr)"
   ]
  },
  {
   "cell_type": "code",
   "execution_count": 20,
   "id": "78fa690b-e2b2-455d-aa57-c18a82517077",
   "metadata": {},
   "outputs": [
    {
     "name": "stdout",
     "output_type": "stream",
     "text": [
      "[2 3 4]\n",
      "[1 2 3 4]\n",
      "[4 5]\n"
     ]
    }
   ],
   "source": [
    "arr = np.array([1, 2, 3, 4, 5])\n",
    "\n",
    "sub_arr = arr[1:4]\n",
    "print(sub_arr)\n",
    "\n",
    "sub_arr = arr[:-1]\n",
    "print(sub_arr)\n",
    "\n",
    "sub_arr = arr[-2:]\n",
    "print(sub_arr)"
   ]
  },
  {
   "cell_type": "code",
   "execution_count": 21,
   "id": "cdbfcef8-a8f3-4276-b4b9-9c508925385d",
   "metadata": {},
   "outputs": [
    {
     "name": "stdout",
     "output_type": "stream",
     "text": [
      "[[1 2 3]\n",
      " [4 5 6]]\n",
      "[[1 4]\n",
      " [2 5]\n",
      " [3 6]]\n"
     ]
    }
   ],
   "source": [
    "arr = np.array([[1, 2, 3], [4, 5, 6]])\n",
    "print(arr)\n",
    "transposed_arr = arr.T\n",
    "print(transposed_arr)"
   ]
  },
  {
   "cell_type": "code",
   "execution_count": 22,
   "id": "47dbddd2-2c0c-41be-8b3f-8f3bc13422e3",
   "metadata": {},
   "outputs": [
    {
     "name": "stdout",
     "output_type": "stream",
     "text": [
      "[1 2 3 4 5 6]\n"
     ]
    }
   ],
   "source": [
    "arr1 = np.array([1, 2, 3])\n",
    "arr2 = np.array([4, 5, 6])\n",
    "arr = np.concatenate((arr1, arr2))\n",
    "print(arr)"
   ]
  },
  {
   "cell_type": "code",
   "execution_count": 33,
   "id": "d97c3dc0-e597-4ffa-ade4-5cd336938a47",
   "metadata": {},
   "outputs": [
    {
     "name": "stdout",
     "output_type": "stream",
     "text": [
      "Tổng của mảng arr: 15\n",
      "Giá trị trung bình của mảng arr: 3.0\n",
      "Giá trị lớn nhất trong mảng arr: 5\n",
      "Giá trị nhỏ nhất trong mảng arr: 1\n",
      "Độ lệch chuẩn của mảng arr: 1.4142135623730951\n",
      "Phương sai của mảng arr: 2.0\n",
      "Tổng tích chập của arr1 và arr2: 32\n"
     ]
    }
   ],
   "source": [
    "arr = np.array([1, 2, 3, 4, 5])\n",
    "total = np.sum(arr)\n",
    "print(\"Tổng của mảng là:\", total)\n",
    "\n",
    "average = np.mean(arr)\n",
    "print(\"Giá trị trung bình của mảng là:\", average)\n",
    "\n",
    "max_value = np.max(arr)\n",
    "min_value = np.min(arr)\n",
    "print(\"Giá trị lớn nhất trong mảng là:\", max_value)\n",
    "print(\"Giá trị nhỏ nhất trong mảng là:\", min_value)\n",
    "\n",
    "std_deviation = np.std(arr)\n",
    "print(\"Độ lệch chuẩn của mảng là:\", std_deviation)\n",
    "\n",
    "variance = np.var(arr)\n",
    "print(\"Phương sai của mảng là:\", variance)\n",
    "\n",
    "arr1 = np.array([1, 2, 3])\n",
    "arr2 = np.array([4, 5, 6])\n",
    "dot_product = np.dot(arr1, arr2)\n",
    "print(\"Tổng tích chập của arr1 và arr2:\", dot_product)"
   ]
  },
  {
   "cell_type": "code",
   "execution_count": null,
   "id": "0786cc64-d41e-4df8-a069-12de18902ba1",
   "metadata": {},
   "outputs": [],
   "source": []
  }
 ],
 "metadata": {
  "kernelspec": {
   "display_name": "Python 3 (ipykernel)",
   "language": "python",
   "name": "python3"
  },
  "language_info": {
   "codemirror_mode": {
    "name": "ipython",
    "version": 3
   },
   "file_extension": ".py",
   "mimetype": "text/x-python",
   "name": "python",
   "nbconvert_exporter": "python",
   "pygments_lexer": "ipython3",
   "version": "3.12.3"
  }
 },
 "nbformat": 4,
 "nbformat_minor": 5
}
